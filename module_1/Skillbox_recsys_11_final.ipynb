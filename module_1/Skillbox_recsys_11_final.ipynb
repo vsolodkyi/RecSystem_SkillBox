{
  "cells": [
    {
      "cell_type": "markdown",
      "metadata": {
        "id": "view-in-github",
        "colab_type": "text"
      },
      "source": [
        "<a href=\"https://colab.research.google.com/github/vsolodkyi/RecSystem_SkillBox/blob/main/module_1/Skillbox_recsys_11_final.ipynb\" target=\"_parent\"><img src=\"https://colab.research.google.com/assets/colab-badge.svg\" alt=\"Open In Colab\"/></a>"
      ]
    },
    {
      "cell_type": "markdown",
      "metadata": {
        "id": "HiwKNjOSNHHa"
      },
      "source": [
        "# Рекомендательная система на библиотеке surprise\n",
        "\n",
        "Сайт библиотеки: http://surpriselib.com/\n",
        "\n",
        "Установки библиотеки:\n",
        "```\n",
        "$ pip install scikit-surprise```\n",
        "или\n",
        "```\n",
        "$ conda install -c conda-forge scikit-surprise```"
      ]
    },
    {
      "cell_type": "code",
      "execution_count": null,
      "metadata": {
        "id": "96KaL8x_NHHk"
      },
      "outputs": [],
      "source": [
        "import pandas as pd\n",
        "import numpy as np"
      ]
    },
    {
      "cell_type": "code",
      "execution_count": null,
      "metadata": {
        "id": "ZKh_t52eNHHm"
      },
      "outputs": [],
      "source": [
        "df = pd.read_csv(\"recdemo.csv\", sep=\";\") #небольшой dataset"
      ]
    },
    {
      "cell_type": "code",
      "execution_count": null,
      "metadata": {
        "id": "BroPE5fANHHn",
        "outputId": "d861df22-a65b-4996-8367-1f442bcc333a"
      },
      "outputs": [
        {
          "data": {
            "text/html": [
              "<div>\n",
              "<style scoped>\n",
              "    .dataframe tbody tr th:only-of-type {\n",
              "        vertical-align: middle;\n",
              "    }\n",
              "\n",
              "    .dataframe tbody tr th {\n",
              "        vertical-align: top;\n",
              "    }\n",
              "\n",
              "    .dataframe thead th {\n",
              "        text-align: right;\n",
              "    }\n",
              "</style>\n",
              "<table border=\"1\" class=\"dataframe\">\n",
              "  <thead>\n",
              "    <tr style=\"text-align: right;\">\n",
              "      <th></th>\n",
              "      <th>id</th>\n",
              "      <th>A</th>\n",
              "      <th>B</th>\n",
              "      <th>C</th>\n",
              "      <th>D</th>\n",
              "      <th>E</th>\n",
              "      <th>F</th>\n",
              "    </tr>\n",
              "  </thead>\n",
              "  <tbody>\n",
              "    <tr>\n",
              "      <td>0</td>\n",
              "      <td>1</td>\n",
              "      <td>3.0</td>\n",
              "      <td>4.0</td>\n",
              "      <td>2.0</td>\n",
              "      <td>4.0</td>\n",
              "      <td>1.0</td>\n",
              "      <td>NaN</td>\n",
              "    </tr>\n",
              "    <tr>\n",
              "      <td>1</td>\n",
              "      <td>2</td>\n",
              "      <td>3.0</td>\n",
              "      <td>4.0</td>\n",
              "      <td>2.0</td>\n",
              "      <td>4.0</td>\n",
              "      <td>NaN</td>\n",
              "      <td>2.0</td>\n",
              "    </tr>\n",
              "    <tr>\n",
              "      <td>2</td>\n",
              "      <td>3</td>\n",
              "      <td>NaN</td>\n",
              "      <td>2.0</td>\n",
              "      <td>5.0</td>\n",
              "      <td>5.0</td>\n",
              "      <td>NaN</td>\n",
              "      <td>5.0</td>\n",
              "    </tr>\n",
              "    <tr>\n",
              "      <td>3</td>\n",
              "      <td>4</td>\n",
              "      <td>NaN</td>\n",
              "      <td>NaN</td>\n",
              "      <td>NaN</td>\n",
              "      <td>NaN</td>\n",
              "      <td>4.0</td>\n",
              "      <td>NaN</td>\n",
              "    </tr>\n",
              "    <tr>\n",
              "      <td>4</td>\n",
              "      <td>5</td>\n",
              "      <td>3.0</td>\n",
              "      <td>NaN</td>\n",
              "      <td>2.0</td>\n",
              "      <td>4.0</td>\n",
              "      <td>4.0</td>\n",
              "      <td>NaN</td>\n",
              "    </tr>\n",
              "    <tr>\n",
              "      <td>5</td>\n",
              "      <td>6</td>\n",
              "      <td>NaN</td>\n",
              "      <td>5.0</td>\n",
              "      <td>5.0</td>\n",
              "      <td>5.0</td>\n",
              "      <td>NaN</td>\n",
              "      <td>5.0</td>\n",
              "    </tr>\n",
              "    <tr>\n",
              "      <td>6</td>\n",
              "      <td>7</td>\n",
              "      <td>1.0</td>\n",
              "      <td>NaN</td>\n",
              "      <td>NaN</td>\n",
              "      <td>2.0</td>\n",
              "      <td>NaN</td>\n",
              "      <td>3.0</td>\n",
              "    </tr>\n",
              "    <tr>\n",
              "      <td>7</td>\n",
              "      <td>8</td>\n",
              "      <td>NaN</td>\n",
              "      <td>NaN</td>\n",
              "      <td>NaN</td>\n",
              "      <td>NaN</td>\n",
              "      <td>4.0</td>\n",
              "      <td>4.0</td>\n",
              "    </tr>\n",
              "  </tbody>\n",
              "</table>\n",
              "</div>"
            ],
            "text/plain": [
              "   id    A    B    C    D    E    F\n",
              "0   1  3.0  4.0  2.0  4.0  1.0  NaN\n",
              "1   2  3.0  4.0  2.0  4.0  NaN  2.0\n",
              "2   3  NaN  2.0  5.0  5.0  NaN  5.0\n",
              "3   4  NaN  NaN  NaN  NaN  4.0  NaN\n",
              "4   5  3.0  NaN  2.0  4.0  4.0  NaN\n",
              "5   6  NaN  5.0  5.0  5.0  NaN  5.0\n",
              "6   7  1.0  NaN  NaN  2.0  NaN  3.0\n",
              "7   8  NaN  NaN  NaN  NaN  4.0  4.0"
            ]
          },
          "execution_count": 3,
          "metadata": {},
          "output_type": "execute_result"
        }
      ],
      "source": [
        "df"
      ]
    },
    {
      "cell_type": "code",
      "execution_count": null,
      "metadata": {
        "id": "RVcS3Fc8NHHp",
        "outputId": "c6a8fc66-38fc-4fa8-e798-b3a71a1efa85"
      },
      "outputs": [
        {
          "data": {
            "text/html": [
              "<div>\n",
              "<style scoped>\n",
              "    .dataframe tbody tr th:only-of-type {\n",
              "        vertical-align: middle;\n",
              "    }\n",
              "\n",
              "    .dataframe tbody tr th {\n",
              "        vertical-align: top;\n",
              "    }\n",
              "\n",
              "    .dataframe thead th {\n",
              "        text-align: right;\n",
              "    }\n",
              "</style>\n",
              "<table border=\"1\" class=\"dataframe\">\n",
              "  <thead>\n",
              "    <tr style=\"text-align: right;\">\n",
              "      <th></th>\n",
              "      <th>id</th>\n",
              "      <th>variable</th>\n",
              "      <th>value</th>\n",
              "    </tr>\n",
              "  </thead>\n",
              "  <tbody>\n",
              "    <tr>\n",
              "      <td>0</td>\n",
              "      <td>1</td>\n",
              "      <td>A</td>\n",
              "      <td>3.0</td>\n",
              "    </tr>\n",
              "    <tr>\n",
              "      <td>1</td>\n",
              "      <td>2</td>\n",
              "      <td>A</td>\n",
              "      <td>3.0</td>\n",
              "    </tr>\n",
              "    <tr>\n",
              "      <td>2</td>\n",
              "      <td>3</td>\n",
              "      <td>A</td>\n",
              "      <td>NaN</td>\n",
              "    </tr>\n",
              "    <tr>\n",
              "      <td>3</td>\n",
              "      <td>4</td>\n",
              "      <td>A</td>\n",
              "      <td>NaN</td>\n",
              "    </tr>\n",
              "    <tr>\n",
              "      <td>4</td>\n",
              "      <td>5</td>\n",
              "      <td>A</td>\n",
              "      <td>3.0</td>\n",
              "    </tr>\n",
              "  </tbody>\n",
              "</table>\n",
              "</div>"
            ],
            "text/plain": [
              "   id variable  value\n",
              "0   1        A    3.0\n",
              "1   2        A    3.0\n",
              "2   3        A    NaN\n",
              "3   4        A    NaN\n",
              "4   5        A    3.0"
            ]
          },
          "execution_count": 4,
          "metadata": {},
          "output_type": "execute_result"
        }
      ],
      "source": [
        "df_unpivot=pd.melt(df, id_vars=['id'])\n",
        "df_unpivot.head()"
      ]
    },
    {
      "cell_type": "code",
      "execution_count": null,
      "metadata": {
        "id": "dC-R6iG9NHHq"
      },
      "outputs": [],
      "source": [
        "df_unpivot.dropna(inplace=True)\n",
        "df_unpivot.columns=['userID', 'itemID', 'rating']"
      ]
    },
    {
      "cell_type": "code",
      "execution_count": null,
      "metadata": {
        "id": "T_0AT-kxNHHr"
      },
      "outputs": [],
      "source": [
        "from surprise import Dataset\n",
        "from surprise import Reader\n",
        "\n",
        "reader = Reader(rating_scale=(1, 5)) # Зададим разброс оценок\n",
        "data = Dataset.load_from_df(df_unpivot[['userID', 'itemID', 'rating']], reader) #создадим объект, с которым умеет работать библиотека"
      ]
    },
    {
      "cell_type": "code",
      "execution_count": null,
      "metadata": {
        "id": "RY7nMpcENHHs"
      },
      "outputs": [],
      "source": [
        "trainset = data.build_full_trainset()\n",
        "testset = trainset.build_anti_testset()"
      ]
    },
    {
      "cell_type": "code",
      "execution_count": null,
      "metadata": {
        "id": "M5yH4YgtNHHu",
        "outputId": "545e8684-e22f-47b1-9972-e477fa1489ee"
      },
      "outputs": [
        {
          "data": {
            "text/plain": [
              "[(1, 'F', 3.4642857142857144),\n",
              " (2, 'E', 3.4642857142857144),\n",
              " (5, 'B', 3.4642857142857144),\n",
              " (5, 'F', 3.4642857142857144),\n",
              " (7, 'B', 3.4642857142857144),\n",
              " (7, 'C', 3.4642857142857144),\n",
              " (7, 'E', 3.4642857142857144),\n",
              " (3, 'A', 3.4642857142857144),\n",
              " (3, 'E', 3.4642857142857144),\n",
              " (6, 'A', 3.4642857142857144)]"
            ]
          },
          "execution_count": 8,
          "metadata": {},
          "output_type": "execute_result"
        }
      ],
      "source": [
        "testset[0:10]"
      ]
    },
    {
      "cell_type": "code",
      "execution_count": null,
      "metadata": {
        "id": "8JqEMEjsNHHv",
        "outputId": "2fd3dcbb-c8ff-4240-fd84-646d52c5dca4"
      },
      "outputs": [
        {
          "name": "stdout",
          "output_type": "stream",
          "text": [
            "(array([[0.5       , 0.94339811]]), array([[2, 4]], dtype=int64))\n"
          ]
        }
      ],
      "source": [
        "samples = [[0., 0., 0.], [0., .5, 0.], [1., 1., .5], [0.3, .5, 0.2], [.2, 1., .5]]\n",
        "from sklearn.neighbors import NearestNeighbors\n",
        "knn = NearestNeighbors(n_neighbors=2)\n",
        "knn.fit(samples)\n",
        "print(knn.kneighbors([[1., 1., 1.]]))"
      ]
    },
    {
      "cell_type": "code",
      "execution_count": null,
      "metadata": {
        "id": "SBwpvQRaNHH3",
        "outputId": "46246265-4fd1-4cf6-893b-74c8609213e4"
      },
      "outputs": [
        {
          "name": "stdout",
          "output_type": "stream",
          "text": [
            "(array([[1.11803399, 1.17473401]]), array([[2, 3]], dtype=int64))\n"
          ]
        }
      ],
      "source": [
        "print(knn.kneighbors([[1., 0., 1.]]))"
      ]
    },
    {
      "cell_type": "code",
      "execution_count": null,
      "metadata": {
        "id": "1omPRfEzNHH4",
        "outputId": "f681e030-6a0b-41f3-9a26-691a195db7ef"
      },
      "outputs": [
        {
          "name": "stdout",
          "output_type": "stream",
          "text": [
            "Estimating biases using als...\n",
            "Computing the msd similarity matrix...\n",
            "Done computing similarity matrix.\n"
          ]
        }
      ],
      "source": [
        "from surprise import KNNBaseline\n",
        "algo = KNNBaseline(k=1)\n",
        "algo.fit(trainset)\n",
        "predictions = algo.test(testset)"
      ]
    },
    {
      "cell_type": "code",
      "execution_count": null,
      "metadata": {
        "id": "hc1Uk-VkNHH5",
        "outputId": "411602c3-39da-41ad-d965-dd0c9836605e"
      },
      "outputs": [
        {
          "data": {
            "text/plain": [
              "[Prediction(uid=1, iid='F', r_ui=3.4642857142857144, est=1.9577925900897966, details={'actual_k': 1, 'was_impossible': False}),\n",
              " Prediction(uid=2, iid='E', r_ui=3.4642857142857144, est=1.0422074099102034, details={'actual_k': 1, 'was_impossible': False}),\n",
              " Prediction(uid=5, iid='B', r_ui=3.4642857142857144, est=4.082661845573158, details={'actual_k': 1, 'was_impossible': False}),\n",
              " Prediction(uid=5, iid='F', r_ui=3.4642857142857144, est=2.0826618455731576, details={'actual_k': 1, 'was_impossible': False}),\n",
              " Prediction(uid=7, iid='B', r_ui=3.4642857142857144, est=3.8701641215302014, details={'actual_k': 1, 'was_impossible': False})]"
            ]
          },
          "execution_count": 79,
          "metadata": {},
          "output_type": "execute_result"
        }
      ],
      "source": [
        "predictions[0:5]"
      ]
    },
    {
      "cell_type": "code",
      "execution_count": null,
      "metadata": {
        "id": "0rn1ElYzNHH5"
      },
      "outputs": [],
      "source": [
        "df_unpivot1 = df_unpivot.copy()\n",
        "for i in predictions:\n",
        "    df_unpivot1 = df_unpivot1.append({'userID':i.uid, 'itemID': i.iid, 'rating': i.est}, ignore_index=True)"
      ]
    },
    {
      "cell_type": "code",
      "execution_count": null,
      "metadata": {
        "id": "L0rlPqmlNHH6",
        "outputId": "18b1bd73-2919-4719-fd0a-55affe280c2e"
      },
      "outputs": [
        {
          "data": {
            "text/html": [
              "<div>\n",
              "<style scoped>\n",
              "    .dataframe tbody tr th:only-of-type {\n",
              "        vertical-align: middle;\n",
              "    }\n",
              "\n",
              "    .dataframe tbody tr th {\n",
              "        vertical-align: top;\n",
              "    }\n",
              "\n",
              "    .dataframe thead th {\n",
              "        text-align: right;\n",
              "    }\n",
              "</style>\n",
              "<table border=\"1\" class=\"dataframe\">\n",
              "  <thead>\n",
              "    <tr style=\"text-align: right;\">\n",
              "      <th>itemID</th>\n",
              "      <th>A</th>\n",
              "      <th>B</th>\n",
              "      <th>C</th>\n",
              "      <th>D</th>\n",
              "      <th>E</th>\n",
              "      <th>F</th>\n",
              "    </tr>\n",
              "    <tr>\n",
              "      <th>userID</th>\n",
              "      <th></th>\n",
              "      <th></th>\n",
              "      <th></th>\n",
              "      <th></th>\n",
              "      <th></th>\n",
              "      <th></th>\n",
              "    </tr>\n",
              "  </thead>\n",
              "  <tbody>\n",
              "    <tr>\n",
              "      <td>1</td>\n",
              "      <td>3.000000</td>\n",
              "      <td>4.000000</td>\n",
              "      <td>2.000000</td>\n",
              "      <td>4.000000</td>\n",
              "      <td>1.000000</td>\n",
              "      <td>1.957793</td>\n",
              "    </tr>\n",
              "    <tr>\n",
              "      <td>2</td>\n",
              "      <td>3.000000</td>\n",
              "      <td>4.000000</td>\n",
              "      <td>2.000000</td>\n",
              "      <td>4.000000</td>\n",
              "      <td>1.042207</td>\n",
              "      <td>2.000000</td>\n",
              "    </tr>\n",
              "    <tr>\n",
              "      <td>3</td>\n",
              "      <td>3.311189</td>\n",
              "      <td>2.000000</td>\n",
              "      <td>5.000000</td>\n",
              "      <td>5.000000</td>\n",
              "      <td>4.090446</td>\n",
              "      <td>5.000000</td>\n",
              "    </tr>\n",
              "    <tr>\n",
              "      <td>4</td>\n",
              "      <td>3.072513</td>\n",
              "      <td>4.197382</td>\n",
              "      <td>2.072513</td>\n",
              "      <td>4.072513</td>\n",
              "      <td>4.000000</td>\n",
              "      <td>3.976639</td>\n",
              "    </tr>\n",
              "    <tr>\n",
              "      <td>5</td>\n",
              "      <td>3.000000</td>\n",
              "      <td>4.082662</td>\n",
              "      <td>2.000000</td>\n",
              "      <td>4.000000</td>\n",
              "      <td>4.000000</td>\n",
              "      <td>2.082662</td>\n",
              "    </tr>\n",
              "    <tr>\n",
              "      <td>6</td>\n",
              "      <td>3.469084</td>\n",
              "      <td>5.000000</td>\n",
              "      <td>5.000000</td>\n",
              "      <td>5.000000</td>\n",
              "      <td>4.248341</td>\n",
              "      <td>5.000000</td>\n",
              "    </tr>\n",
              "    <tr>\n",
              "      <td>7</td>\n",
              "      <td>1.000000</td>\n",
              "      <td>3.870164</td>\n",
              "      <td>1.870164</td>\n",
              "      <td>2.000000</td>\n",
              "      <td>3.691628</td>\n",
              "      <td>3.000000</td>\n",
              "    </tr>\n",
              "    <tr>\n",
              "      <td>8</td>\n",
              "      <td>3.095874</td>\n",
              "      <td>1.909554</td>\n",
              "      <td>2.095874</td>\n",
              "      <td>4.095874</td>\n",
              "      <td>4.000000</td>\n",
              "      <td>4.000000</td>\n",
              "    </tr>\n",
              "  </tbody>\n",
              "</table>\n",
              "</div>"
            ],
            "text/plain": [
              "itemID         A         B         C         D         E         F\n",
              "userID                                                            \n",
              "1       3.000000  4.000000  2.000000  4.000000  1.000000  1.957793\n",
              "2       3.000000  4.000000  2.000000  4.000000  1.042207  2.000000\n",
              "3       3.311189  2.000000  5.000000  5.000000  4.090446  5.000000\n",
              "4       3.072513  4.197382  2.072513  4.072513  4.000000  3.976639\n",
              "5       3.000000  4.082662  2.000000  4.000000  4.000000  2.082662\n",
              "6       3.469084  5.000000  5.000000  5.000000  4.248341  5.000000\n",
              "7       1.000000  3.870164  1.870164  2.000000  3.691628  3.000000\n",
              "8       3.095874  1.909554  2.095874  4.095874  4.000000  4.000000"
            ]
          },
          "execution_count": 81,
          "metadata": {},
          "output_type": "execute_result"
        }
      ],
      "source": [
        "df_unpivot1.pivot(index='userID', columns='itemID', values='rating')"
      ]
    },
    {
      "cell_type": "code",
      "execution_count": null,
      "metadata": {
        "id": "yO4Njzc4NHH7",
        "outputId": "a9c41a09-df17-43fa-e259-833f6defc30e"
      },
      "outputs": [
        {
          "name": "stdout",
          "output_type": "stream",
          "text": [
            "Estimating biases using als...\n",
            "Computing the msd similarity matrix...\n",
            "Done computing similarity matrix.\n"
          ]
        }
      ],
      "source": [
        "algo = KNNBaseline(k=3)\n",
        "algo.fit(trainset)\n",
        "# Than predict ratings for all pairs (u, i) that are NOT in the training set.\n",
        "predictions = algo.test(testset)"
      ]
    },
    {
      "cell_type": "code",
      "execution_count": null,
      "metadata": {
        "id": "YBV1DDeiNHH7",
        "outputId": "194f3e9e-28de-4c23-d971-e1967ba7eb6d"
      },
      "outputs": [
        {
          "data": {
            "text/html": [
              "<div>\n",
              "<style scoped>\n",
              "    .dataframe tbody tr th:only-of-type {\n",
              "        vertical-align: middle;\n",
              "    }\n",
              "\n",
              "    .dataframe tbody tr th {\n",
              "        vertical-align: top;\n",
              "    }\n",
              "\n",
              "    .dataframe thead th {\n",
              "        text-align: right;\n",
              "    }\n",
              "</style>\n",
              "<table border=\"1\" class=\"dataframe\">\n",
              "  <thead>\n",
              "    <tr style=\"text-align: right;\">\n",
              "      <th>itemID</th>\n",
              "      <th>A</th>\n",
              "      <th>B</th>\n",
              "      <th>C</th>\n",
              "      <th>D</th>\n",
              "      <th>E</th>\n",
              "      <th>F</th>\n",
              "    </tr>\n",
              "    <tr>\n",
              "      <th>userID</th>\n",
              "      <th></th>\n",
              "      <th></th>\n",
              "      <th></th>\n",
              "      <th></th>\n",
              "      <th></th>\n",
              "      <th></th>\n",
              "    </tr>\n",
              "  </thead>\n",
              "  <tbody>\n",
              "    <tr>\n",
              "      <td>1</td>\n",
              "      <td>3.000000</td>\n",
              "      <td>4.000000</td>\n",
              "      <td>2.000000</td>\n",
              "      <td>4.000000</td>\n",
              "      <td>1.000000</td>\n",
              "      <td>2.507435</td>\n",
              "    </tr>\n",
              "    <tr>\n",
              "      <td>2</td>\n",
              "      <td>3.000000</td>\n",
              "      <td>4.000000</td>\n",
              "      <td>2.000000</td>\n",
              "      <td>4.000000</td>\n",
              "      <td>2.601745</td>\n",
              "      <td>2.000000</td>\n",
              "    </tr>\n",
              "    <tr>\n",
              "      <td>3</td>\n",
              "      <td>3.256100</td>\n",
              "      <td>2.000000</td>\n",
              "      <td>5.000000</td>\n",
              "      <td>5.000000</td>\n",
              "      <td>3.527693</td>\n",
              "      <td>5.000000</td>\n",
              "    </tr>\n",
              "    <tr>\n",
              "      <td>4</td>\n",
              "      <td>3.083864</td>\n",
              "      <td>4.197382</td>\n",
              "      <td>2.083864</td>\n",
              "      <td>4.083864</td>\n",
              "      <td>4.000000</td>\n",
              "      <td>3.976639</td>\n",
              "    </tr>\n",
              "    <tr>\n",
              "      <td>5</td>\n",
              "      <td>3.000000</td>\n",
              "      <td>3.834977</td>\n",
              "      <td>2.000000</td>\n",
              "      <td>4.000000</td>\n",
              "      <td>4.000000</td>\n",
              "      <td>3.013312</td>\n",
              "    </tr>\n",
              "    <tr>\n",
              "      <td>6</td>\n",
              "      <td>3.418235</td>\n",
              "      <td>5.000000</td>\n",
              "      <td>5.000000</td>\n",
              "      <td>5.000000</td>\n",
              "      <td>3.590444</td>\n",
              "      <td>5.000000</td>\n",
              "    </tr>\n",
              "    <tr>\n",
              "      <td>7</td>\n",
              "      <td>1.000000</td>\n",
              "      <td>3.366011</td>\n",
              "      <td>1.857717</td>\n",
              "      <td>2.000000</td>\n",
              "      <td>3.095321</td>\n",
              "      <td>3.000000</td>\n",
              "    </tr>\n",
              "    <tr>\n",
              "      <td>8</td>\n",
              "      <td>2.579863</td>\n",
              "      <td>3.471928</td>\n",
              "      <td>3.463240</td>\n",
              "      <td>4.463240</td>\n",
              "      <td>4.000000</td>\n",
              "      <td>4.000000</td>\n",
              "    </tr>\n",
              "  </tbody>\n",
              "</table>\n",
              "</div>"
            ],
            "text/plain": [
              "itemID         A         B         C         D         E         F\n",
              "userID                                                            \n",
              "1       3.000000  4.000000  2.000000  4.000000  1.000000  2.507435\n",
              "2       3.000000  4.000000  2.000000  4.000000  2.601745  2.000000\n",
              "3       3.256100  2.000000  5.000000  5.000000  3.527693  5.000000\n",
              "4       3.083864  4.197382  2.083864  4.083864  4.000000  3.976639\n",
              "5       3.000000  3.834977  2.000000  4.000000  4.000000  3.013312\n",
              "6       3.418235  5.000000  5.000000  5.000000  3.590444  5.000000\n",
              "7       1.000000  3.366011  1.857717  2.000000  3.095321  3.000000\n",
              "8       2.579863  3.471928  3.463240  4.463240  4.000000  4.000000"
            ]
          },
          "execution_count": 84,
          "metadata": {},
          "output_type": "execute_result"
        }
      ],
      "source": [
        "df_unpivot3 = df_unpivot.copy()\n",
        "for i in predictions:\n",
        "    df_unpivot3 = df_unpivot3.append({'userID':i.uid, 'itemID': i.iid, 'rating': i.est}, ignore_index=True)\n",
        "df_unpivot3.pivot(index='userID', columns='itemID', values='rating')"
      ]
    },
    {
      "cell_type": "markdown",
      "metadata": {
        "id": "-DiWTRhQNHH8"
      },
      "source": [
        "## Кросс-валидация"
      ]
    },
    {
      "cell_type": "code",
      "execution_count": null,
      "metadata": {
        "id": "fDW4Z66eNHH8"
      },
      "outputs": [],
      "source": [
        "from surprise.model_selection import cross_validate"
      ]
    },
    {
      "cell_type": "code",
      "execution_count": null,
      "metadata": {
        "id": "yIF6PQFANHH9",
        "outputId": "1431dbbd-6021-47c9-c83a-a045dfb0629e"
      },
      "outputs": [
        {
          "name": "stdout",
          "output_type": "stream",
          "text": [
            "Estimating biases using als...\n",
            "Computing the msd similarity matrix...\n",
            "Done computing similarity matrix.\n",
            "Estimating biases using als...\n",
            "Computing the msd similarity matrix...\n",
            "Done computing similarity matrix.\n",
            "Evaluating RMSE, MAE of algorithm KNNBaseline on 2 split(s).\n",
            "\n",
            "                  Fold 1  Fold 2  Mean    Std     \n",
            "RMSE (testset)    1.5068  1.4832  1.4950  0.0118  \n",
            "MAE (testset)     1.2600  1.1369  1.1984  0.0615  \n",
            "Fit time          0.00    0.00    0.00    0.00    \n",
            "Test time         0.00    0.00    0.00    0.00    \n"
          ]
        },
        {
          "data": {
            "text/plain": [
              "{'test_rmse': array([1.5067953 , 1.48324745]),\n",
              " 'test_mae': array([1.25995309, 1.13694536]),\n",
              " 'fit_time': (0.0, 0.000997304916381836),\n",
              " 'test_time': (0.0, 0.0)}"
            ]
          },
          "execution_count": 86,
          "metadata": {},
          "output_type": "execute_result"
        }
      ],
      "source": [
        "cross_validate(algo, data, cv=2, verbose=True)"
      ]
    },
    {
      "cell_type": "code",
      "execution_count": null,
      "metadata": {
        "id": "IeAuJCN8NHH-",
        "outputId": "d537fe7a-fb90-43d7-8160-2308ac9b242f"
      },
      "outputs": [
        {
          "name": "stdout",
          "output_type": "stream",
          "text": [
            "Estimating biases using als...\n",
            "Computing the msd similarity matrix...\n",
            "Done computing similarity matrix.\n",
            "Estimating biases using als...\n",
            "Computing the msd similarity matrix...\n",
            "Done computing similarity matrix.\n",
            "Estimating biases using als...\n",
            "Computing the msd similarity matrix...\n",
            "Done computing similarity matrix.\n"
          ]
        },
        {
          "data": {
            "text/plain": [
              "{'test_rmse': array([1.52618574, 1.63112299, 1.42226037]),\n",
              " 'fit_time': (0.0, 0.0, 0.0),\n",
              " 'test_time': (0.000997304916381836, 0.0, 0.0)}"
            ]
          },
          "execution_count": 87,
          "metadata": {},
          "output_type": "execute_result"
        }
      ],
      "source": [
        "cross_validate(algo, data, measures=['RMSE'], cv=3, verbose=False)"
      ]
    },
    {
      "cell_type": "code",
      "execution_count": null,
      "metadata": {
        "id": "C2ThYnm7NHH_",
        "outputId": "e0a3cf3a-4f05-4b9e-d752-2791436c69d9"
      },
      "outputs": [
        {
          "name": "stdout",
          "output_type": "stream",
          "text": [
            "1NN: 1.6649043410789377\n",
            "2NN: 1.6636341764054048\n",
            "3NN: 1.3534887218964426\n",
            "4NN: 1.6999722513125624\n",
            "5NN: 1.8018448597718197\n"
          ]
        }
      ],
      "source": [
        "for i in range(1,6):\n",
        "    algo = KNNBaseline(k=i, verbose=False) #отключим вывод логирования\n",
        "    cv=cross_validate(algo, data, measures=['RMSE'], cv=3, verbose=False)\n",
        "    print(str(i)+'NN:',np.mean(cv['test_rmse']))"
      ]
    },
    {
      "cell_type": "markdown",
      "metadata": {
        "id": "ElGvQBekNHH_"
      },
      "source": [
        "## Item-based подход"
      ]
    },
    {
      "cell_type": "code",
      "execution_count": null,
      "metadata": {
        "id": "-0aCJKTyNHH_",
        "outputId": "cee58c09-fa91-4021-d3a8-c2fdf99b88c0"
      },
      "outputs": [
        {
          "data": {
            "text/html": [
              "<div>\n",
              "<style scoped>\n",
              "    .dataframe tbody tr th:only-of-type {\n",
              "        vertical-align: middle;\n",
              "    }\n",
              "\n",
              "    .dataframe tbody tr th {\n",
              "        vertical-align: top;\n",
              "    }\n",
              "\n",
              "    .dataframe thead th {\n",
              "        text-align: right;\n",
              "    }\n",
              "</style>\n",
              "<table border=\"1\" class=\"dataframe\">\n",
              "  <thead>\n",
              "    <tr style=\"text-align: right;\">\n",
              "      <th>itemID</th>\n",
              "      <th>A</th>\n",
              "      <th>B</th>\n",
              "      <th>C</th>\n",
              "      <th>D</th>\n",
              "      <th>E</th>\n",
              "      <th>F</th>\n",
              "    </tr>\n",
              "    <tr>\n",
              "      <th>userID</th>\n",
              "      <th></th>\n",
              "      <th></th>\n",
              "      <th></th>\n",
              "      <th></th>\n",
              "      <th></th>\n",
              "      <th></th>\n",
              "    </tr>\n",
              "  </thead>\n",
              "  <tbody>\n",
              "    <tr>\n",
              "      <td>1</td>\n",
              "      <td>3.000000</td>\n",
              "      <td>4.000000</td>\n",
              "      <td>2.000000</td>\n",
              "      <td>4.000000</td>\n",
              "      <td>1.000000</td>\n",
              "      <td>2.810335</td>\n",
              "    </tr>\n",
              "    <tr>\n",
              "      <td>2</td>\n",
              "      <td>3.000000</td>\n",
              "      <td>4.000000</td>\n",
              "      <td>2.000000</td>\n",
              "      <td>4.000000</td>\n",
              "      <td>2.601745</td>\n",
              "      <td>2.000000</td>\n",
              "    </tr>\n",
              "    <tr>\n",
              "      <td>3</td>\n",
              "      <td>2.859638</td>\n",
              "      <td>2.000000</td>\n",
              "      <td>5.000000</td>\n",
              "      <td>5.000000</td>\n",
              "      <td>3.527693</td>\n",
              "      <td>5.000000</td>\n",
              "    </tr>\n",
              "    <tr>\n",
              "      <td>4</td>\n",
              "      <td>3.083864</td>\n",
              "      <td>4.197382</td>\n",
              "      <td>2.083864</td>\n",
              "      <td>4.083864</td>\n",
              "      <td>4.000000</td>\n",
              "      <td>3.976639</td>\n",
              "    </tr>\n",
              "    <tr>\n",
              "      <td>5</td>\n",
              "      <td>3.000000</td>\n",
              "      <td>3.918340</td>\n",
              "      <td>2.000000</td>\n",
              "      <td>4.000000</td>\n",
              "      <td>4.000000</td>\n",
              "      <td>3.239815</td>\n",
              "    </tr>\n",
              "    <tr>\n",
              "      <td>6</td>\n",
              "      <td>3.053741</td>\n",
              "      <td>5.000000</td>\n",
              "      <td>5.000000</td>\n",
              "      <td>5.000000</td>\n",
              "      <td>3.590444</td>\n",
              "      <td>5.000000</td>\n",
              "    </tr>\n",
              "    <tr>\n",
              "      <td>7</td>\n",
              "      <td>1.000000</td>\n",
              "      <td>3.566434</td>\n",
              "      <td>2.632849</td>\n",
              "      <td>2.000000</td>\n",
              "      <td>3.095321</td>\n",
              "      <td>3.000000</td>\n",
              "    </tr>\n",
              "    <tr>\n",
              "      <td>8</td>\n",
              "      <td>2.615467</td>\n",
              "      <td>3.529529</td>\n",
              "      <td>3.297505</td>\n",
              "      <td>4.043101</td>\n",
              "      <td>4.000000</td>\n",
              "      <td>4.000000</td>\n",
              "    </tr>\n",
              "  </tbody>\n",
              "</table>\n",
              "</div>"
            ],
            "text/plain": [
              "itemID         A         B         C         D         E         F\n",
              "userID                                                            \n",
              "1       3.000000  4.000000  2.000000  4.000000  1.000000  2.810335\n",
              "2       3.000000  4.000000  2.000000  4.000000  2.601745  2.000000\n",
              "3       2.859638  2.000000  5.000000  5.000000  3.527693  5.000000\n",
              "4       3.083864  4.197382  2.083864  4.083864  4.000000  3.976639\n",
              "5       3.000000  3.918340  2.000000  4.000000  4.000000  3.239815\n",
              "6       3.053741  5.000000  5.000000  5.000000  3.590444  5.000000\n",
              "7       1.000000  3.566434  2.632849  2.000000  3.095321  3.000000\n",
              "8       2.615467  3.529529  3.297505  4.043101  4.000000  4.000000"
            ]
          },
          "execution_count": 89,
          "metadata": {},
          "output_type": "execute_result"
        }
      ],
      "source": [
        "algo = KNNBaseline(k=5, verbose=False)\n",
        "predictions = algo.fit(trainset).test(testset)\n",
        "df_unpivot5 = df_unpivot.copy()\n",
        "for i in predictions:\n",
        "    df_unpivot5 = df_unpivot5.append({'userID':i.uid, 'itemID': i.iid, 'rating': i.est}, ignore_index=True)\n",
        "df_unpivot5.pivot(index='userID', columns='itemID', values='rating')"
      ]
    },
    {
      "cell_type": "code",
      "execution_count": null,
      "metadata": {
        "id": "CYTvXR2hNHIA"
      },
      "outputs": [],
      "source": [
        "sim_options = {'user_based': False } # Item-based подход"
      ]
    },
    {
      "cell_type": "code",
      "execution_count": null,
      "metadata": {
        "id": "NfWQwC4UNHIB",
        "outputId": "ae1b2505-563a-4baa-b50b-1dc1a75d99c3"
      },
      "outputs": [
        {
          "data": {
            "text/html": [
              "<div>\n",
              "<style scoped>\n",
              "    .dataframe tbody tr th:only-of-type {\n",
              "        vertical-align: middle;\n",
              "    }\n",
              "\n",
              "    .dataframe tbody tr th {\n",
              "        vertical-align: top;\n",
              "    }\n",
              "\n",
              "    .dataframe thead th {\n",
              "        text-align: right;\n",
              "    }\n",
              "</style>\n",
              "<table border=\"1\" class=\"dataframe\">\n",
              "  <thead>\n",
              "    <tr style=\"text-align: right;\">\n",
              "      <th>itemID</th>\n",
              "      <th>A</th>\n",
              "      <th>B</th>\n",
              "      <th>C</th>\n",
              "      <th>D</th>\n",
              "      <th>E</th>\n",
              "      <th>F</th>\n",
              "    </tr>\n",
              "    <tr>\n",
              "      <th>userID</th>\n",
              "      <th></th>\n",
              "      <th></th>\n",
              "      <th></th>\n",
              "      <th></th>\n",
              "      <th></th>\n",
              "      <th></th>\n",
              "    </tr>\n",
              "  </thead>\n",
              "  <tbody>\n",
              "    <tr>\n",
              "      <td>1</td>\n",
              "      <td>3.000000</td>\n",
              "      <td>4.000000</td>\n",
              "      <td>2.000000</td>\n",
              "      <td>4.000000</td>\n",
              "      <td>1.000000</td>\n",
              "      <td>2.329176</td>\n",
              "    </tr>\n",
              "    <tr>\n",
              "      <td>2</td>\n",
              "      <td>3.000000</td>\n",
              "      <td>4.000000</td>\n",
              "      <td>2.000000</td>\n",
              "      <td>4.000000</td>\n",
              "      <td>2.376574</td>\n",
              "      <td>2.000000</td>\n",
              "    </tr>\n",
              "    <tr>\n",
              "      <td>3</td>\n",
              "      <td>3.858465</td>\n",
              "      <td>2.000000</td>\n",
              "      <td>5.000000</td>\n",
              "      <td>5.000000</td>\n",
              "      <td>4.678967</td>\n",
              "      <td>5.000000</td>\n",
              "    </tr>\n",
              "    <tr>\n",
              "      <td>4</td>\n",
              "      <td>3.818825</td>\n",
              "      <td>4.122894</td>\n",
              "      <td>3.956402</td>\n",
              "      <td>4.261502</td>\n",
              "      <td>4.000000</td>\n",
              "      <td>4.155852</td>\n",
              "    </tr>\n",
              "    <tr>\n",
              "      <td>5</td>\n",
              "      <td>3.000000</td>\n",
              "      <td>3.337475</td>\n",
              "      <td>2.000000</td>\n",
              "      <td>4.000000</td>\n",
              "      <td>4.000000</td>\n",
              "      <td>3.311002</td>\n",
              "    </tr>\n",
              "    <tr>\n",
              "      <td>6</td>\n",
              "      <td>4.698465</td>\n",
              "      <td>5.000000</td>\n",
              "      <td>5.000000</td>\n",
              "      <td>5.000000</td>\n",
              "      <td>4.870350</td>\n",
              "      <td>5.000000</td>\n",
              "    </tr>\n",
              "    <tr>\n",
              "      <td>7</td>\n",
              "      <td>1.000000</td>\n",
              "      <td>1.789695</td>\n",
              "      <td>2.155844</td>\n",
              "      <td>2.000000</td>\n",
              "      <td>2.383400</td>\n",
              "      <td>3.000000</td>\n",
              "    </tr>\n",
              "    <tr>\n",
              "      <td>8</td>\n",
              "      <td>3.740899</td>\n",
              "      <td>4.021251</td>\n",
              "      <td>3.835183</td>\n",
              "      <td>4.150897</td>\n",
              "      <td>4.000000</td>\n",
              "      <td>4.000000</td>\n",
              "    </tr>\n",
              "  </tbody>\n",
              "</table>\n",
              "</div>"
            ],
            "text/plain": [
              "itemID         A         B         C         D         E         F\n",
              "userID                                                            \n",
              "1       3.000000  4.000000  2.000000  4.000000  1.000000  2.329176\n",
              "2       3.000000  4.000000  2.000000  4.000000  2.376574  2.000000\n",
              "3       3.858465  2.000000  5.000000  5.000000  4.678967  5.000000\n",
              "4       3.818825  4.122894  3.956402  4.261502  4.000000  4.155852\n",
              "5       3.000000  3.337475  2.000000  4.000000  4.000000  3.311002\n",
              "6       4.698465  5.000000  5.000000  5.000000  4.870350  5.000000\n",
              "7       1.000000  1.789695  2.155844  2.000000  2.383400  3.000000\n",
              "8       3.740899  4.021251  3.835183  4.150897  4.000000  4.000000"
            ]
          },
          "execution_count": 91,
          "metadata": {},
          "output_type": "execute_result"
        }
      ],
      "source": [
        "algo = KNNBaseline(k=5,sim_options=sim_options, verbose=False)\n",
        "predictions = algo.fit(trainset).test(testset)\n",
        "df_unpivot5_items = df_unpivot.copy()\n",
        "for i in predictions:\n",
        "    df_unpivot5_items = df_unpivot5_items.append({'userID':i.uid, 'itemID': i.iid, 'rating': i.est}, ignore_index=True)\n",
        "df_unpivot5_items.pivot(index='userID', columns='itemID', values='rating')"
      ]
    },
    {
      "cell_type": "markdown",
      "metadata": {
        "id": "sQKuEXR6NHIE"
      },
      "source": [
        "## Косинусная-мера"
      ]
    },
    {
      "cell_type": "code",
      "execution_count": null,
      "metadata": {
        "id": "nsn8MtjvNHIG",
        "outputId": "2b902400-6795-4e34-d417-81707d948eeb"
      },
      "outputs": [
        {
          "data": {
            "text/html": [
              "<div>\n",
              "<style scoped>\n",
              "    .dataframe tbody tr th:only-of-type {\n",
              "        vertical-align: middle;\n",
              "    }\n",
              "\n",
              "    .dataframe tbody tr th {\n",
              "        vertical-align: top;\n",
              "    }\n",
              "\n",
              "    .dataframe thead th {\n",
              "        text-align: right;\n",
              "    }\n",
              "</style>\n",
              "<table border=\"1\" class=\"dataframe\">\n",
              "  <thead>\n",
              "    <tr style=\"text-align: right;\">\n",
              "      <th>itemID</th>\n",
              "      <th>A</th>\n",
              "      <th>B</th>\n",
              "      <th>C</th>\n",
              "      <th>D</th>\n",
              "      <th>E</th>\n",
              "      <th>F</th>\n",
              "    </tr>\n",
              "    <tr>\n",
              "      <th>userID</th>\n",
              "      <th></th>\n",
              "      <th></th>\n",
              "      <th></th>\n",
              "      <th></th>\n",
              "      <th></th>\n",
              "      <th></th>\n",
              "    </tr>\n",
              "  </thead>\n",
              "  <tbody>\n",
              "    <tr>\n",
              "      <td>1</td>\n",
              "      <td>3.000000</td>\n",
              "      <td>4.000000</td>\n",
              "      <td>2.000000</td>\n",
              "      <td>4.000000</td>\n",
              "      <td>1.000000</td>\n",
              "      <td>3.572362</td>\n",
              "    </tr>\n",
              "    <tr>\n",
              "      <td>2</td>\n",
              "      <td>3.000000</td>\n",
              "      <td>4.000000</td>\n",
              "      <td>2.000000</td>\n",
              "      <td>4.000000</td>\n",
              "      <td>2.927003</td>\n",
              "      <td>2.000000</td>\n",
              "    </tr>\n",
              "    <tr>\n",
              "      <td>3</td>\n",
              "      <td>2.754335</td>\n",
              "      <td>2.000000</td>\n",
              "      <td>5.000000</td>\n",
              "      <td>5.000000</td>\n",
              "      <td>3.270544</td>\n",
              "      <td>5.000000</td>\n",
              "    </tr>\n",
              "    <tr>\n",
              "      <td>4</td>\n",
              "      <td>3.134947</td>\n",
              "      <td>4.197382</td>\n",
              "      <td>2.134947</td>\n",
              "      <td>4.134947</td>\n",
              "      <td>4.000000</td>\n",
              "      <td>3.976639</td>\n",
              "    </tr>\n",
              "    <tr>\n",
              "      <td>5</td>\n",
              "      <td>3.000000</td>\n",
              "      <td>3.668772</td>\n",
              "      <td>2.000000</td>\n",
              "      <td>4.000000</td>\n",
              "      <td>4.000000</td>\n",
              "      <td>3.714426</td>\n",
              "    </tr>\n",
              "    <tr>\n",
              "      <td>6</td>\n",
              "      <td>2.939492</td>\n",
              "      <td>5.000000</td>\n",
              "      <td>5.000000</td>\n",
              "      <td>5.000000</td>\n",
              "      <td>3.360864</td>\n",
              "      <td>5.000000</td>\n",
              "    </tr>\n",
              "    <tr>\n",
              "      <td>7</td>\n",
              "      <td>1.000000</td>\n",
              "      <td>3.442211</td>\n",
              "      <td>2.951617</td>\n",
              "      <td>2.000000</td>\n",
              "      <td>2.802029</td>\n",
              "      <td>3.000000</td>\n",
              "    </tr>\n",
              "    <tr>\n",
              "      <td>8</td>\n",
              "      <td>2.700881</td>\n",
              "      <td>3.765123</td>\n",
              "      <td>3.231273</td>\n",
              "      <td>4.431273</td>\n",
              "      <td>4.000000</td>\n",
              "      <td>4.000000</td>\n",
              "    </tr>\n",
              "  </tbody>\n",
              "</table>\n",
              "</div>"
            ],
            "text/plain": [
              "itemID         A         B         C         D         E         F\n",
              "userID                                                            \n",
              "1       3.000000  4.000000  2.000000  4.000000  1.000000  3.572362\n",
              "2       3.000000  4.000000  2.000000  4.000000  2.927003  2.000000\n",
              "3       2.754335  2.000000  5.000000  5.000000  3.270544  5.000000\n",
              "4       3.134947  4.197382  2.134947  4.134947  4.000000  3.976639\n",
              "5       3.000000  3.668772  2.000000  4.000000  4.000000  3.714426\n",
              "6       2.939492  5.000000  5.000000  5.000000  3.360864  5.000000\n",
              "7       1.000000  3.442211  2.951617  2.000000  2.802029  3.000000\n",
              "8       2.700881  3.765123  3.231273  4.431273  4.000000  4.000000"
            ]
          },
          "execution_count": 95,
          "metadata": {},
          "output_type": "execute_result"
        }
      ],
      "source": [
        "algo = KNNBaseline(k=5,sim_options= {'name': 'cosine'}, verbose=False)\n",
        "predictions = algo.fit(trainset).test(testset)\n",
        "df_unpivot5_cos = df_unpivot.copy()\n",
        "for i in predictions:\n",
        "    df_unpivot5_cos = df_unpivot5_cos.append({'userID':i.uid, 'itemID': i.iid, 'rating': i.est}, ignore_index=True)\n",
        "df_unpivot5_cos.pivot(index='userID', columns='itemID', values='rating')"
      ]
    },
    {
      "cell_type": "markdown",
      "metadata": {
        "id": "mBWmwVCINHII"
      },
      "source": [
        "## Datalens"
      ]
    },
    {
      "cell_type": "markdown",
      "metadata": {
        "id": "-Fb3x-9wNHII"
      },
      "source": [
        "В библиотеке есть встроенные Dataset. Можно воспользоваться ими.\n",
        "\n",
        "Возьмем Dataset movielens (Побробнее о нем https://grouplens.org/datasets/movielens/ )"
      ]
    },
    {
      "cell_type": "code",
      "execution_count": null,
      "metadata": {
        "id": "enVeZpMhNHIK"
      },
      "outputs": [],
      "source": [
        "data = Dataset.load_builtin('ml-100k')#загружем данные о фильмах"
      ]
    },
    {
      "cell_type": "code",
      "execution_count": null,
      "metadata": {
        "id": "lbkpt1qSNHIK",
        "outputId": "80c68691-9b2c-4c41-9847-aef337979eda"
      },
      "outputs": [
        {
          "data": {
            "text/html": [
              "<div>\n",
              "<style scoped>\n",
              "    .dataframe tbody tr th:only-of-type {\n",
              "        vertical-align: middle;\n",
              "    }\n",
              "\n",
              "    .dataframe tbody tr th {\n",
              "        vertical-align: top;\n",
              "    }\n",
              "\n",
              "    .dataframe thead th {\n",
              "        text-align: right;\n",
              "    }\n",
              "</style>\n",
              "<table border=\"1\" class=\"dataframe\">\n",
              "  <thead>\n",
              "    <tr style=\"text-align: right;\">\n",
              "      <th></th>\n",
              "      <th>user</th>\n",
              "      <th>item</th>\n",
              "      <th>rating</th>\n",
              "      <th>timestamp</th>\n",
              "    </tr>\n",
              "  </thead>\n",
              "  <tbody>\n",
              "    <tr>\n",
              "      <td>0</td>\n",
              "      <td>196</td>\n",
              "      <td>242</td>\n",
              "      <td>3.0</td>\n",
              "      <td>881250949</td>\n",
              "    </tr>\n",
              "    <tr>\n",
              "      <td>1</td>\n",
              "      <td>186</td>\n",
              "      <td>302</td>\n",
              "      <td>3.0</td>\n",
              "      <td>891717742</td>\n",
              "    </tr>\n",
              "    <tr>\n",
              "      <td>2</td>\n",
              "      <td>22</td>\n",
              "      <td>377</td>\n",
              "      <td>1.0</td>\n",
              "      <td>878887116</td>\n",
              "    </tr>\n",
              "    <tr>\n",
              "      <td>3</td>\n",
              "      <td>244</td>\n",
              "      <td>51</td>\n",
              "      <td>2.0</td>\n",
              "      <td>880606923</td>\n",
              "    </tr>\n",
              "    <tr>\n",
              "      <td>4</td>\n",
              "      <td>166</td>\n",
              "      <td>346</td>\n",
              "      <td>1.0</td>\n",
              "      <td>886397596</td>\n",
              "    </tr>\n",
              "  </tbody>\n",
              "</table>\n",
              "</div>"
            ],
            "text/plain": [
              "  user item  rating  timestamp\n",
              "0  196  242     3.0  881250949\n",
              "1  186  302     3.0  891717742\n",
              "2   22  377     1.0  878887116\n",
              "3  244   51     2.0  880606923\n",
              "4  166  346     1.0  886397596"
            ]
          },
          "execution_count": 99,
          "metadata": {},
          "output_type": "execute_result"
        }
      ],
      "source": [
        "df = pd.DataFrame(data.raw_ratings)\n",
        "df.columns = ['user', 'item', 'rating', 'timestamp']\n",
        "df.head()"
      ]
    },
    {
      "cell_type": "code",
      "execution_count": null,
      "metadata": {
        "id": "nwYhBNs8NHIL",
        "outputId": "1c26a765-497e-444f-c822-059086b24d4e"
      },
      "outputs": [
        {
          "data": {
            "text/plain": [
              "(943, 1682)"
            ]
          },
          "execution_count": 104,
          "metadata": {},
          "output_type": "execute_result"
        }
      ],
      "source": [
        "df['user'].nunique(), df['item'].nunique()"
      ]
    },
    {
      "cell_type": "code",
      "execution_count": null,
      "metadata": {
        "id": "cKPjNnZ9NHIM",
        "outputId": "e58fe857-7058-4f0d-d549-38978117c31c"
      },
      "outputs": [
        {
          "name": "stdout",
          "output_type": "stream",
          "text": [
            "1NN: 1.246339807977332\n",
            "3NN: 1.0399470383326885\n",
            "5NN: 0.9917767965869508\n",
            "7NN: 0.9727265727173074\n",
            "20NN: 0.9407337899874544\n"
          ]
        }
      ],
      "source": [
        "for i in [1,3,5,7,20]:\n",
        "    algo = KNNBaseline(k=i, verbose=False) #отключим вывод логирования\n",
        "    cv=cross_validate(algo, data, measures=['RMSE'], cv=3, verbose=False)\n",
        "    print(str(i)+'NN:',np.mean(cv['test_rmse']))"
      ]
    },
    {
      "cell_type": "markdown",
      "metadata": {
        "id": "cJ2VlkMbNHIM"
      },
      "source": [
        "## Задание:\n",
        "Все задание выполняется на датасэтет 'ml-100k' (Dataset.load_builtin('ml-100k'))\n",
        "1. Найдте для фильма алгоритмом kNN(k=20) с id 181 все неизвестные оценки (user-based). В ответе: посчитайте среднее полученных оценок.\n",
        "2. Для параметров k = [10,20,30,40] найдите лучший item-based алгоритм (по метрике RMSE, кросс-валидация на 3 фолда).\n",
        "Ответ: укажите k\n",
        "3. Для лучшего алгоритма из пункта 2 найдте для фильма с id 181 все неизвестные оценки. В ответе: посчитайте среднее полученных оценок."
      ]
    }
  ],
  "metadata": {
    "kernelspec": {
      "display_name": "Python 3",
      "language": "python",
      "name": "python3"
    },
    "language_info": {
      "codemirror_mode": {
        "name": "ipython",
        "version": 3
      },
      "file_extension": ".py",
      "mimetype": "text/x-python",
      "name": "python",
      "nbconvert_exporter": "python",
      "pygments_lexer": "ipython3",
      "version": "3.7.4"
    },
    "colab": {
      "name": "Skillbox_recsys_11_final.ipynb",
      "provenance": [],
      "include_colab_link": true
    }
  },
  "nbformat": 4,
  "nbformat_minor": 0
}