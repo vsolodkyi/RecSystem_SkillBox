{
  "cells": [
    {
      "cell_type": "markdown",
      "metadata": {
        "id": "view-in-github",
        "colab_type": "text"
      },
      "source": [
        "<a href=\"https://colab.research.google.com/github/vsolodkyi/RecSystem_SkillBox/blob/main/module_1/Skillbox_recsys_12_metrics.ipynb\" target=\"_parent\"><img src=\"https://colab.research.google.com/assets/colab-badge.svg\" alt=\"Open In Colab\"/></a>"
      ]
    },
    {
      "cell_type": "markdown",
      "metadata": {
        "id": "wh4Xwq6WpclZ"
      },
      "source": [
        "# Рекомендательная система на библиотеке surprise 2\n",
        "\n",
        "Сайт библиотеки: http://surpriselib.com/\n",
        "\n",
        "Установки библиотеки:\n",
        "```\n",
        "$ pip install scikit-surprise```"
      ]
    },
    {
      "cell_type": "code",
      "execution_count": null,
      "metadata": {
        "id": "0j8i-Q7spcle"
      },
      "outputs": [],
      "source": [
        "import pandas as pd\n",
        "import numpy as np"
      ]
    },
    {
      "cell_type": "code",
      "execution_count": null,
      "metadata": {
        "id": "8edIeT4Ppclg"
      },
      "outputs": [],
      "source": [
        "from surprise import Dataset"
      ]
    },
    {
      "cell_type": "code",
      "execution_count": null,
      "metadata": {
        "id": "rND1e04Gpclh"
      },
      "outputs": [],
      "source": [
        "data = Dataset.load_builtin('ml-100k')"
      ]
    },
    {
      "cell_type": "code",
      "execution_count": null,
      "metadata": {
        "id": "t2pFLhqQpclh"
      },
      "outputs": [],
      "source": [
        "from surprise import KNNBaseline\n",
        "from surprise.model_selection import train_test_split"
      ]
    },
    {
      "cell_type": "code",
      "execution_count": null,
      "metadata": {
        "id": "XTB9XBBQpcli"
      },
      "outputs": [],
      "source": [
        "trainset, testset = train_test_split(data, test_size=.30) #разоббем выборку на обучение и тест"
      ]
    },
    {
      "cell_type": "code",
      "execution_count": null,
      "metadata": {
        "id": "jJVPH_9Jpclj"
      },
      "outputs": [],
      "source": [
        "algo = KNNBaseline(k=20, verbose=False)\n",
        "predictions = algo.fit(trainset).test(testset)"
      ]
    },
    {
      "cell_type": "code",
      "execution_count": null,
      "metadata": {
        "id": "iexRIIn7pclk"
      },
      "outputs": [],
      "source": [
        "df_ratings=pd.DataFrame(columns=['userID', 'itemID', 'rating', 'real_rating'])\n",
        "for i in predictions:\n",
        "    #if int(i.uid)==833:\n",
        "    df_ratings = df_ratings.append({'userID':i.uid, 'itemID': i.iid, 'rating': i.est, 'real_rating': i.r_ui}, ignore_index=True)"
      ]
    },
    {
      "cell_type": "code",
      "execution_count": null,
      "metadata": {
        "id": "_QE2dO0epcll"
      },
      "outputs": [],
      "source": [
        "user456=df_ratings[df_ratings.userID=='456']"
      ]
    },
    {
      "cell_type": "code",
      "execution_count": null,
      "metadata": {
        "id": "0_LmDSgbpclo"
      },
      "outputs": [],
      "source": [
        "threshold=5 # выбираем порог при котором элементы считаем релевантными\n",
        "n=7\n",
        "rel_n = set(user456[user456.real_rating>=threshold]['itemID'])"
      ]
    },
    {
      "cell_type": "code",
      "execution_count": null,
      "metadata": {
        "id": "e_HBknyMpclo",
        "outputId": "05bc2d28-ee27-4afb-e977-4a5741566d49"
      },
      "outputs": [
        {
          "data": {
            "text/html": [
              "<div>\n",
              "<style scoped>\n",
              "    .dataframe tbody tr th:only-of-type {\n",
              "        vertical-align: middle;\n",
              "    }\n",
              "\n",
              "    .dataframe tbody tr th {\n",
              "        vertical-align: top;\n",
              "    }\n",
              "\n",
              "    .dataframe thead th {\n",
              "        text-align: right;\n",
              "    }\n",
              "</style>\n",
              "<table border=\"1\" class=\"dataframe\">\n",
              "  <thead>\n",
              "    <tr style=\"text-align: right;\">\n",
              "      <th></th>\n",
              "      <th>userID</th>\n",
              "      <th>itemID</th>\n",
              "      <th>rating</th>\n",
              "      <th>real_rating</th>\n",
              "    </tr>\n",
              "  </thead>\n",
              "  <tbody>\n",
              "    <tr>\n",
              "      <td>5505</td>\n",
              "      <td>456</td>\n",
              "      <td>474</td>\n",
              "      <td>4.528689</td>\n",
              "      <td>5.0</td>\n",
              "    </tr>\n",
              "    <tr>\n",
              "      <td>14558</td>\n",
              "      <td>456</td>\n",
              "      <td>86</td>\n",
              "      <td>4.149827</td>\n",
              "      <td>2.0</td>\n",
              "    </tr>\n",
              "    <tr>\n",
              "      <td>14419</td>\n",
              "      <td>456</td>\n",
              "      <td>427</td>\n",
              "      <td>4.119658</td>\n",
              "      <td>4.0</td>\n",
              "    </tr>\n",
              "    <tr>\n",
              "      <td>14603</td>\n",
              "      <td>456</td>\n",
              "      <td>197</td>\n",
              "      <td>4.104260</td>\n",
              "      <td>4.0</td>\n",
              "    </tr>\n",
              "    <tr>\n",
              "      <td>28162</td>\n",
              "      <td>456</td>\n",
              "      <td>175</td>\n",
              "      <td>4.099644</td>\n",
              "      <td>3.0</td>\n",
              "    </tr>\n",
              "    <tr>\n",
              "      <td>7696</td>\n",
              "      <td>456</td>\n",
              "      <td>14</td>\n",
              "      <td>4.036253</td>\n",
              "      <td>5.0</td>\n",
              "    </tr>\n",
              "    <tr>\n",
              "      <td>15920</td>\n",
              "      <td>456</td>\n",
              "      <td>174</td>\n",
              "      <td>4.027757</td>\n",
              "      <td>4.0</td>\n",
              "    </tr>\n",
              "  </tbody>\n",
              "</table>\n",
              "</div>"
            ],
            "text/plain": [
              "      userID itemID    rating  real_rating\n",
              "5505     456    474  4.528689          5.0\n",
              "14558    456     86  4.149827          2.0\n",
              "14419    456    427  4.119658          4.0\n",
              "14603    456    197  4.104260          4.0\n",
              "28162    456    175  4.099644          3.0\n",
              "7696     456     14  4.036253          5.0\n",
              "15920    456    174  4.027757          4.0"
            ]
          },
          "execution_count": 11,
          "metadata": {},
          "output_type": "execute_result"
        }
      ],
      "source": [
        "user456.sort_values(by='rating', ascending=False)[0:n]"
      ]
    },
    {
      "cell_type": "code",
      "execution_count": null,
      "metadata": {
        "id": "lpPoxJ1npclp"
      },
      "outputs": [],
      "source": [
        "t=user456.sort_values(by='rating', ascending=False)[0:n]\n",
        "ret_n=set(t['itemID'])"
      ]
    },
    {
      "cell_type": "code",
      "execution_count": null,
      "metadata": {
        "id": "bDNdIKvvpclq",
        "outputId": "c317a67b-3a0d-4645-cc48-b034c7334d6b"
      },
      "outputs": [
        {
          "data": {
            "text/plain": [
              "0.2857142857142857"
            ]
          },
          "execution_count": 13,
          "metadata": {},
          "output_type": "execute_result"
        }
      ],
      "source": [
        "len(rel_n & ret_n)/n"
      ]
    },
    {
      "cell_type": "code",
      "execution_count": null,
      "metadata": {
        "id": "j5ps82-lpclq"
      },
      "outputs": [],
      "source": [
        "def Precision_at_n(df_ratings, n=3, threshold=5):\n",
        "    rel_n = set(df_ratings[df_ratings.real_rating>=threshold]['itemID'])\n",
        "    t=df_ratings.sort_values(by='rating', ascending=False)[0:n]\n",
        "    ret_n=set(t['itemID'])\n",
        "    return len(rel_n & ret_n)/n"
      ]
    },
    {
      "cell_type": "code",
      "execution_count": null,
      "metadata": {
        "id": "W8DLUA9apclr"
      },
      "outputs": [],
      "source": [
        "def Avg_Precision_at_n(df_ratings, n=10,threshold=5):\n",
        "    avg_p=0\n",
        "    rel_n = set(df_ratings[df_ratings.real_rating>=threshold]['itemID'])\n",
        "    \n",
        "    for i in range(1,n+1):\n",
        "        t=df_ratings.sort_values(by='rating', ascending=False)[0:i]\n",
        "        ret_n=set(t['itemID'])\n",
        "        t2=df_ratings.sort_values(by='rating', ascending=False)[i-1:i]\n",
        "        ret_n2=set(t2['itemID'])\n",
        "        #print(ret_n2,ret_n)\n",
        "        if len((ret_n2 & rel_n))>0: #rel(i)\n",
        "            avg_p=avg_p+len(rel_n & ret_n)/n\n",
        "    return avg_p/n"
      ]
    },
    {
      "cell_type": "code",
      "execution_count": null,
      "metadata": {
        "id": "K7RZVUN3pclr",
        "outputId": "8bdc8afd-1ba4-428e-dd72-161de488a4f8"
      },
      "outputs": [
        {
          "name": "stdout",
          "output_type": "stream",
          "text": [
            "3 0.3333333333333333\n",
            "4 0.25\n",
            "5 0.2\n",
            "6 0.3333333333333333\n",
            "7 0.2857142857142857\n",
            "8 0.375\n",
            "9 0.3333333333333333\n",
            "10 0.3\n",
            "11 0.2727272727272727\n",
            "12 0.25\n",
            "13 0.23076923076923078\n",
            "14 0.21428571428571427\n"
          ]
        }
      ],
      "source": [
        "for i in range(3,15):\n",
        "    print(i,Precision_at_n(user456,i))"
      ]
    },
    {
      "cell_type": "code",
      "execution_count": null,
      "metadata": {
        "id": "1VkKkwh_pcls",
        "outputId": "676e72de-15a4-4f8f-b8a0-ceba22cd1634"
      },
      "outputs": [
        {
          "name": "stdout",
          "output_type": "stream",
          "text": [
            "3 0.1111111111111111\n",
            "4 0.0625\n",
            "5 0.04\n",
            "6 0.08333333333333333\n",
            "7 0.061224489795918366\n",
            "8 0.09375\n",
            "9 0.07407407407407407\n",
            "10 0.06000000000000001\n",
            "11 0.04958677685950413\n",
            "12 0.041666666666666664\n",
            "13 0.03550295857988166\n",
            "14 0.030612244897959183\n"
          ]
        }
      ],
      "source": [
        "for i in range(3,15):\n",
        "    print(i,Avg_Precision_at_n(user456,i))"
      ]
    },
    {
      "cell_type": "code",
      "execution_count": null,
      "metadata": {
        "id": "lPUsWy4Lpcls"
      },
      "outputs": [],
      "source": [
        ""
      ]
    }
  ],
  "metadata": {
    "kernelspec": {
      "display_name": "Python 3",
      "language": "python",
      "name": "python3"
    },
    "language_info": {
      "codemirror_mode": {
        "name": "ipython",
        "version": 3
      },
      "file_extension": ".py",
      "mimetype": "text/x-python",
      "name": "python",
      "nbconvert_exporter": "python",
      "pygments_lexer": "ipython3",
      "version": "3.7.4"
    },
    "colab": {
      "name": "Skillbox_recsys_12_metrics.ipynb",
      "provenance": [],
      "include_colab_link": true
    }
  },
  "nbformat": 4,
  "nbformat_minor": 0
}