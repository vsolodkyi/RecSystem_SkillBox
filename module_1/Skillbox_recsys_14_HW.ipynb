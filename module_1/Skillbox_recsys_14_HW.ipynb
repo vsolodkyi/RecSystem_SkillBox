{
  "nbformat": 4,
  "nbformat_minor": 0,
  "metadata": {
    "kernelspec": {
      "display_name": "Python 3",
      "language": "python",
      "name": "python3"
    },
    "language_info": {
      "codemirror_mode": {
        "name": "ipython",
        "version": 3
      },
      "file_extension": ".py",
      "mimetype": "text/x-python",
      "name": "python",
      "nbconvert_exporter": "python",
      "pygments_lexer": "ipython3",
      "version": "3.7.4"
    },
    "colab": {
      "name": "Skillbox_recsys_14-HW.ipynb",
      "provenance": [],
      "collapsed_sections": [],
      "include_colab_link": true
    }
  },
  "cells": [
    {
      "cell_type": "markdown",
      "metadata": {
        "id": "view-in-github",
        "colab_type": "text"
      },
      "source": [
        "<a href=\"https://colab.research.google.com/github/vsolodkyi/RecSystem_SkillBox/blob/main/module_1/Skillbox_recsys_14_HW.ipynb\" target=\"_parent\"><img src=\"https://colab.research.google.com/assets/colab-badge.svg\" alt=\"Open In Colab\"/></a>"
      ]
    },
    {
      "cell_type": "markdown",
      "metadata": {
        "id": "blI59vDd_yno"
      },
      "source": [
        "# Рекомендательная система на библиотеке surprise (Домашнее задание)\n"
      ]
    },
    {
      "cell_type": "code",
      "metadata": {
        "id": "Pu43MMQD_yns"
      },
      "source": [
        "import pandas as pd\n",
        "import numpy as np"
      ],
      "execution_count": 1,
      "outputs": []
    },
    {
      "cell_type": "code",
      "source": [
        "!pip install surprise"
      ],
      "metadata": {
        "id": "qx3IvBKUJlTj",
        "outputId": "dfe47621-d5d7-4148-9db5-71843e2ffaa1",
        "colab": {
          "base_uri": "https://localhost:8080/"
        }
      },
      "execution_count": 4,
      "outputs": [
        {
          "output_type": "stream",
          "name": "stdout",
          "text": [
            "Looking in indexes: https://pypi.org/simple, https://us-python.pkg.dev/colab-wheels/public/simple/\n",
            "Collecting surprise\n",
            "  Downloading surprise-0.1-py2.py3-none-any.whl (1.8 kB)\n",
            "Collecting scikit-surprise\n",
            "  Downloading scikit-surprise-1.1.1.tar.gz (11.8 MB)\n",
            "\u001b[K     |████████████████████████████████| 11.8 MB 5.3 MB/s \n",
            "\u001b[?25hRequirement already satisfied: joblib>=0.11 in /usr/local/lib/python3.7/dist-packages (from scikit-surprise->surprise) (1.1.0)\n",
            "Requirement already satisfied: numpy>=1.11.2 in /usr/local/lib/python3.7/dist-packages (from scikit-surprise->surprise) (1.21.6)\n",
            "Requirement already satisfied: scipy>=1.0.0 in /usr/local/lib/python3.7/dist-packages (from scikit-surprise->surprise) (1.7.3)\n",
            "Requirement already satisfied: six>=1.10.0 in /usr/local/lib/python3.7/dist-packages (from scikit-surprise->surprise) (1.15.0)\n",
            "Building wheels for collected packages: scikit-surprise\n",
            "  Building wheel for scikit-surprise (setup.py) ... \u001b[?25l\u001b[?25hdone\n",
            "  Created wheel for scikit-surprise: filename=scikit_surprise-1.1.1-cp37-cp37m-linux_x86_64.whl size=1634006 sha256=f767ce60b34ff91c9a5f0b0cfe203e33856574a1d58a0aa007a37f46e61cced2\n",
            "  Stored in directory: /root/.cache/pip/wheels/76/44/74/b498c42be47b2406bd27994e16c5188e337c657025ab400c1c\n",
            "Successfully built scikit-surprise\n",
            "Installing collected packages: scikit-surprise, surprise\n",
            "Successfully installed scikit-surprise-1.1.1 surprise-0.1\n"
          ]
        }
      ]
    },
    {
      "cell_type": "code",
      "metadata": {
        "id": "Ov0SQK91_yn6"
      },
      "source": [
        "from surprise import Dataset\n",
        "from surprise import Reader"
      ],
      "execution_count": 5,
      "outputs": []
    },
    {
      "cell_type": "code",
      "metadata": {
        "id": "AcOs63Na_yoE"
      },
      "source": [
        "from surprise import KNNBaseline"
      ],
      "execution_count": 6,
      "outputs": []
    },
    {
      "cell_type": "code",
      "metadata": {
        "id": "TItsSg5e_yoN"
      },
      "source": [
        "from surprise.model_selection import train_test_split"
      ],
      "execution_count": 7,
      "outputs": []
    },
    {
      "cell_type": "code",
      "metadata": {
        "id": "vaTHk6Wl_yoV"
      },
      "source": [
        "def Precision_at_n(df_ratings, n=3, threshold=5):\n",
        "    rel_n = set(df_ratings[df_ratings.real_rating>=threshold]['itemID'])\n",
        "    t=df_ratings.sort_values(by='rating', ascending=False)[0:n]\n",
        "    ret_n=set(t['itemID'])\n",
        "    return len(rel_n & ret_n)/n"
      ],
      "execution_count": 8,
      "outputs": []
    },
    {
      "cell_type": "code",
      "metadata": {
        "id": "9NsHlWKF_yoa"
      },
      "source": [
        "def Avg_Precision_at_n(df_ratings, n=10,threshold=5):\n",
        "    avg_p=0\n",
        "    rel_n = set(df_ratings[df_ratings.real_rating>=threshold]['itemID'])\n",
        "    \n",
        "    for i in range(1,n+1):\n",
        "        t=df_ratings.sort_values(by='rating', ascending=False)[0:i]\n",
        "        ret_n=set(t['itemID'])\n",
        "        t2=df_ratings.sort_values(by='rating', ascending=False)[i-1:i]\n",
        "        ret_n2=set(t2['itemID'])\n",
        "        #print(ret_n2,ret_n)\n",
        "        if len((ret_n2 & rel_n))>0:\n",
        "            avg_p=avg_p+len(rel_n & ret_n)/n\n",
        "    return avg_p/n"
      ],
      "execution_count": 9,
      "outputs": []
    },
    {
      "cell_type": "code",
      "metadata": {
        "id": "pFI50Ctf_yoh"
      },
      "source": [
        "def Recall_at_n(df_ratings, n=3,threshold=5):\n",
        "    rel_n = set(df_ratings[df_ratings.real_rating>=threshold]['itemID'])\n",
        "    t=df_ratings.sort_values(by='rating', ascending=False)[0:n]\n",
        "    ret_n=set(t['itemID'])\n",
        "    return len(rel_n & ret_n)/len(set(rel_n))"
      ],
      "execution_count": 10,
      "outputs": []
    },
    {
      "cell_type": "code",
      "metadata": {
        "id": "kongmpxc_yoo"
      },
      "source": [
        "def MAP_at_n(df_ratings_all, n=10,threshold=5):\n",
        "    users=df_ratings_all['userID'].unique()\n",
        "    map_at_n=0\n",
        "    for i in users:\n",
        "        df_ratings=df_ratings_all[df_ratings_all.userID==i]\n",
        "        map_at_n=map_at_n+Avg_Precision_at_n(df_ratings,n=n,threshold=threshold)\n",
        "    return map_at_n/len(users)   "
      ],
      "execution_count": 11,
      "outputs": []
    },
    {
      "cell_type": "markdown",
      "metadata": {
        "id": "ErBUm4Rj_yos"
      },
      "source": [
        "## Легкое задание\n",
        "Для датасэта\n",
        "\n",
        "```\n",
        "data = Dataset.load_builtin('ml-100k')\n",
        "trainset, testset = train_test_split(data, test_size=.30)\n",
        "\n",
        "```\n",
        "\n",
        "Для каждого k= 10, 20 и 30 выбрать какой вариант KNN лучше item-based или user-based по метрике MAP_at_n (n=5)\n"
      ]
    },
    {
      "cell_type": "code",
      "metadata": {
        "id": "iRGCIsMs_yoy"
      },
      "source": [
        "### YOUR CODE HERE ###\n",
        "data = Dataset.load_builtin('ml-100k')\n",
        "trainset, testset = train_test_split(data, test_size=.30)\n",
        "\n"
      ],
      "execution_count": 13,
      "outputs": []
    },
    {
      "cell_type": "code",
      "source": [
        "dic_estimation = {(10, True):0, (10, False):0, (20, True):0, (20, False):0, (30, True):0, (30, False):0}"
      ],
      "metadata": {
        "id": "Q6EbWyElOG0z"
      },
      "execution_count": 17,
      "outputs": []
    },
    {
      "cell_type": "code",
      "source": [
        "dic_estimation[(10, 0)]"
      ],
      "metadata": {
        "id": "aMTZIyVxOH66",
        "outputId": "661fad8c-8cb1-4d2f-b89d-e38da45d5db8",
        "colab": {
          "base_uri": "https://localhost:8080/"
        }
      },
      "execution_count": 19,
      "outputs": [
        {
          "output_type": "execute_result",
          "data": {
            "text/plain": [
              "0"
            ]
          },
          "metadata": {},
          "execution_count": 19
        }
      ]
    },
    {
      "cell_type": "code",
      "source": [
        "\n",
        "\n",
        "for k in [10,20,30]:\n",
        "  for sim in (True, False):\n",
        "    algo = KNNBaseline(k=k, verbose=False, sim_options = {'user_based': sim})\n",
        "    predictions = algo.fit(trainset).test(testset)\n",
        "    #algo_user = KNNBaseline(k=k, verbose=False, sim_options = {'user_based': False})\n",
        "    df_ratings = pd.DataFrame(columns=['userID', 'itemID', 'rating', 'real_rating'])\n",
        "    for i in predictions:\n",
        "      #if int(i.uid)==833:\n",
        "      df_ratings = df_ratings.append({'userID':i.uid, 'itemID': i.iid, 'rating': i.est, 'real_rating': i.r_ui}, ignore_index=True)\n",
        "\n",
        "    temp_value = MAP_at_n(df_ratings)\n",
        "    dic_estimation[(k, sim)] = temp_value"
      ],
      "metadata": {
        "id": "vtP5cdl9K-Gd"
      },
      "execution_count": 20,
      "outputs": []
    },
    {
      "cell_type": "code",
      "source": [
        "dic_estimation"
      ],
      "metadata": {
        "id": "DfbBSEYFKEju",
        "outputId": "6fa3cffd-c166-4da0-c5d0-abd51fefab4e",
        "colab": {
          "base_uri": "https://localhost:8080/"
        }
      },
      "execution_count": 21,
      "outputs": [
        {
          "output_type": "execute_result",
          "data": {
            "text/plain": [
              "{(10, True): 0.0844527098831037,\n",
              " (10, False): 0.08637619553666376,\n",
              " (20, True): 0.08963868225292311,\n",
              " (20, False): 0.09127523910733328,\n",
              " (30, True): 0.09139213602550549,\n",
              " (30, False): 0.09155154091392202}"
            ]
          },
          "metadata": {},
          "execution_count": 21
        }
      ]
    },
    {
      "cell_type": "markdown",
      "metadata": {
        "id": "aKTck4LW_yo7"
      },
      "source": [
        "## Сложное задание\n",
        "\n",
        "Для датасэта\n",
        "\n",
        "```\n",
        "data = Dataset.load_builtin('ml-100k')\n",
        "trainset, testset = train_test_split(data, test_size=.30)\n",
        "\n",
        "```\n",
        "\n",
        "а) Для KNN(k=30) для каждого пользователя найти лучший алгоритм по Avg_Precision_at_n(7)\n",
        "Cравнивая между item-based, user-based подход, а также разные меры для (косинусную, Пирсона) в KNN.\n",
        "Докуметация к мерам:\n",
        "https://surprise.readthedocs.io/en/stable/prediction_algorithms.html#similarity-measures-configuration\n",
        "\n",
        "б) Для каждого пользователя расчитайте рейтинги фильмов используя лучший алгоритм из пункта а)\n",
        "\n",
        "в) Сравнить результат из б) с обычном kNN k=30 по метрике MAP (n=7).\n"
      ]
    },
    {
      "cell_type": "markdown",
      "metadata": {
        "id": "9_lxNgzH_yo8"
      },
      "source": [
        "#### а)"
      ]
    },
    {
      "cell_type": "code",
      "metadata": {
        "id": "V48S2OMndfov"
      },
      "source": [
        "### YOUR CODE HERE ###"
      ],
      "execution_count": null,
      "outputs": []
    },
    {
      "cell_type": "markdown",
      "metadata": {
        "id": "xnLPPWwa_ypb"
      },
      "source": [
        "#### б)"
      ]
    },
    {
      "cell_type": "code",
      "metadata": {
        "id": "8NMloVLadgLx"
      },
      "source": [
        "### YOUR CODE HERE ###"
      ],
      "execution_count": null,
      "outputs": []
    },
    {
      "cell_type": "markdown",
      "metadata": {
        "id": "N8if-Exg_ypi"
      },
      "source": [
        "#### в)"
      ]
    },
    {
      "cell_type": "code",
      "metadata": {
        "id": "Iei5P2xCdgtd"
      },
      "source": [
        "### YOUR CODE HERE ###"
      ],
      "execution_count": null,
      "outputs": []
    }
  ]
}