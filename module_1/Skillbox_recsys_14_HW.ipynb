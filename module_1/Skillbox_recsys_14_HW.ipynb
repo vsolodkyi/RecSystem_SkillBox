{
  "nbformat": 4,
  "nbformat_minor": 0,
  "metadata": {
    "kernelspec": {
      "display_name": "Python 3",
      "language": "python",
      "name": "python3"
    },
    "language_info": {
      "codemirror_mode": {
        "name": "ipython",
        "version": 3
      },
      "file_extension": ".py",
      "mimetype": "text/x-python",
      "name": "python",
      "nbconvert_exporter": "python",
      "pygments_lexer": "ipython3",
      "version": "3.7.4"
    },
    "colab": {
      "name": "Skillbox_recsys_14-HW.ipynb",
      "provenance": [],
      "collapsed_sections": [],
      "include_colab_link": true
    }
  },
  "cells": [
    {
      "cell_type": "markdown",
      "metadata": {
        "id": "view-in-github",
        "colab_type": "text"
      },
      "source": [
        "<a href=\"https://colab.research.google.com/github/vsolodkyi/RecSystem_SkillBox/blob/main/module_1/Skillbox_recsys_14_HW.ipynb\" target=\"_parent\"><img src=\"https://colab.research.google.com/assets/colab-badge.svg\" alt=\"Open In Colab\"/></a>"
      ]
    },
    {
      "cell_type": "markdown",
      "metadata": {
        "id": "blI59vDd_yno"
      },
      "source": [
        "# Рекомендательная система на библиотеке surprise (Домашнее задание)\n"
      ]
    },
    {
      "cell_type": "code",
      "metadata": {
        "id": "Pu43MMQD_yns"
      },
      "source": [
        "import pandas as pd\n",
        "import numpy as np"
      ],
      "execution_count": null,
      "outputs": []
    },
    {
      "cell_type": "code",
      "metadata": {
        "id": "Ov0SQK91_yn6"
      },
      "source": [
        "from surprise import Dataset\n",
        "from surprise import Reader"
      ],
      "execution_count": null,
      "outputs": []
    },
    {
      "cell_type": "code",
      "metadata": {
        "id": "AcOs63Na_yoE"
      },
      "source": [
        "from surprise import KNNBaseline"
      ],
      "execution_count": null,
      "outputs": []
    },
    {
      "cell_type": "code",
      "metadata": {
        "id": "TItsSg5e_yoN"
      },
      "source": [
        "from surprise.model_selection import train_test_split"
      ],
      "execution_count": null,
      "outputs": []
    },
    {
      "cell_type": "code",
      "metadata": {
        "id": "vaTHk6Wl_yoV"
      },
      "source": [
        "def Precision_at_n(df_ratings, n=3, threshold=5):\n",
        "    rel_n = set(df_ratings[df_ratings.real_rating>=threshold]['itemID'])\n",
        "    t=df_ratings.sort_values(by='rating', ascending=False)[0:n]\n",
        "    ret_n=set(t['itemID'])\n",
        "    return len(rel_n & ret_n)/n"
      ],
      "execution_count": null,
      "outputs": []
    },
    {
      "cell_type": "code",
      "metadata": {
        "id": "9NsHlWKF_yoa"
      },
      "source": [
        "def Avg_Precision_at_n(df_ratings, n=10,threshold=5):\n",
        "    avg_p=0\n",
        "    rel_n = set(df_ratings[df_ratings.real_rating>=threshold]['itemID'])\n",
        "    \n",
        "    for i in range(1,n+1):\n",
        "        t=df_ratings.sort_values(by='rating', ascending=False)[0:i]\n",
        "        ret_n=set(t['itemID'])\n",
        "        t2=df_ratings.sort_values(by='rating', ascending=False)[i-1:i]\n",
        "        ret_n2=set(t2['itemID'])\n",
        "        #print(ret_n2,ret_n)\n",
        "        if len((ret_n2 & rel_n))>0:\n",
        "            avg_p=avg_p+len(rel_n & ret_n)/n\n",
        "    return avg_p/n"
      ],
      "execution_count": null,
      "outputs": []
    },
    {
      "cell_type": "code",
      "metadata": {
        "id": "pFI50Ctf_yoh"
      },
      "source": [
        "def Recall_at_n(df_ratings, n=3,threshold=5):\n",
        "    rel_n = set(df_ratings[df_ratings.real_rating>=threshold]['itemID'])\n",
        "    t=df_ratings.sort_values(by='rating', ascending=False)[0:n]\n",
        "    ret_n=set(t['itemID'])\n",
        "    return len(rel_n & ret_n)/len(set(rel_n))"
      ],
      "execution_count": null,
      "outputs": []
    },
    {
      "cell_type": "code",
      "metadata": {
        "id": "kongmpxc_yoo"
      },
      "source": [
        "def MAP_at_n(df_ratings_all, n=10,threshold=5):\n",
        "    users=df_ratings_all['userID'].unique()\n",
        "    map_at_n=0\n",
        "    for i in users:\n",
        "        df_ratings=df_ratings_all[df_ratings_all.userID==i]\n",
        "        map_at_n=map_at_n+Avg_Precision_at_n(df_ratings,n=n,threshold=threshold)\n",
        "    return map_at_n/len(users)   "
      ],
      "execution_count": null,
      "outputs": []
    },
    {
      "cell_type": "markdown",
      "metadata": {
        "id": "ErBUm4Rj_yos"
      },
      "source": [
        "## Легкое задание\n",
        "Для датасэта\n",
        "\n",
        "```\n",
        "data = Dataset.load_builtin('ml-100k')\n",
        "trainset, testset = train_test_split(data, test_size=.30)\n",
        "\n",
        "```\n",
        "\n",
        "Для каждого k= 10, 20 и 30 выбрать какой вариант KNN лучше item-based или user-based по метрике MAP_at_n (n=5)\n"
      ]
    },
    {
      "cell_type": "code",
      "metadata": {
        "id": "iRGCIsMs_yoy"
      },
      "source": [
        "### YOUR CODE HERE ###"
      ],
      "execution_count": null,
      "outputs": []
    },
    {
      "cell_type": "markdown",
      "metadata": {
        "id": "aKTck4LW_yo7"
      },
      "source": [
        "## Сложное задание\n",
        "\n",
        "Для датасэта\n",
        "\n",
        "```\n",
        "data = Dataset.load_builtin('ml-100k')\n",
        "trainset, testset = train_test_split(data, test_size=.30)\n",
        "\n",
        "```\n",
        "\n",
        "а) Для KNN(k=30) для каждого пользователя найти лучший алгоритм по Avg_Precision_at_n(7)\n",
        "Cравнивая между item-based, user-based подход, а также разные меры для (косинусную, Пирсона) в KNN.\n",
        "Докуметация к мерам:\n",
        "https://surprise.readthedocs.io/en/stable/prediction_algorithms.html#similarity-measures-configuration\n",
        "\n",
        "б) Для каждого пользователя расчитайте рейтинги фильмов используя лучший алгоритм из пункта а)\n",
        "\n",
        "в) Сравнить результат из б) с обычном kNN k=30 по метрике MAP (n=7).\n"
      ]
    },
    {
      "cell_type": "markdown",
      "metadata": {
        "id": "9_lxNgzH_yo8"
      },
      "source": [
        "#### а)"
      ]
    },
    {
      "cell_type": "code",
      "metadata": {
        "id": "V48S2OMndfov"
      },
      "source": [
        "### YOUR CODE HERE ###"
      ],
      "execution_count": null,
      "outputs": []
    },
    {
      "cell_type": "markdown",
      "metadata": {
        "id": "xnLPPWwa_ypb"
      },
      "source": [
        "#### б)"
      ]
    },
    {
      "cell_type": "code",
      "metadata": {
        "id": "8NMloVLadgLx"
      },
      "source": [
        "### YOUR CODE HERE ###"
      ],
      "execution_count": null,
      "outputs": []
    },
    {
      "cell_type": "markdown",
      "metadata": {
        "id": "N8if-Exg_ypi"
      },
      "source": [
        "#### в)"
      ]
    },
    {
      "cell_type": "code",
      "metadata": {
        "id": "Iei5P2xCdgtd"
      },
      "source": [
        "### YOUR CODE HERE ###"
      ],
      "execution_count": null,
      "outputs": []
    }
  ]
}